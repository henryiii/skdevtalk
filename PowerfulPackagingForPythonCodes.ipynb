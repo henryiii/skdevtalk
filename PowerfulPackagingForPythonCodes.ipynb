{
 "cells": [
  {
   "cell_type": "markdown",
   "id": "3950339a-dd61-4a28-a445-7d5571559692",
   "metadata": {},
   "source": [
    "# Powerful Python Packaging for Scientific Codes\n",
    "**Henry Schreiner • Princeton University • July 8, 2021 @ PyHEP 2021**\n",
    "\n",
    "Current best practices for building sharable libraries."
   ]
  },
  {
   "cell_type": "markdown",
   "id": "a3b2696b-02b1-463d-a97e-1762d343aa06",
   "metadata": {},
   "source": [
    "# Links\n",
    "\n",
    "* Scikit-HEP Developer Guidelines @ https://scikit-hep.org/developer\n",
    "* ISciNumPy @ https://iscinumpy.gitlab.io\n",
    "* Scikit-HEP / Cookie @ https://github.com/scikit-hep/cookie"
   ]
  },
  {
   "cell_type": "markdown",
   "id": "bcd863ed-13c9-4447-990f-f19eaa3efacd",
   "metadata": {},
   "source": [
    "# Intro\n",
    "\n",
    "## Questions\n",
    "\n",
    "* How do you ensure your code works for everyone?\n",
    "* How do you maintain something long term?\n",
    "* How do you encourage high quality contributions?\n",
    "\n",
    "Assume you are not the only user of your code, you will not be the only contributor to your code."
   ]
  },
  {
   "cell_type": "markdown",
   "id": "e3705a8e-5dad-4d7e-8490-da765235e532",
   "metadata": {},
   "source": [
    "## Topics\n",
    "* Using environments (venv/virtualenv, py, conda/mamba)\n",
    "    * Applications (pipx)\n",
    "    * Task runners (nox)\n",
    "* Defining packages (several)\n",
    "    * Including extensions (pybind11, cibuildwheel)\n",
    "* Static checking and QA (pre-commit)\n",
    "* Using CI (GitHub Actions)\n",
    "* Distributing packages (PyPI, conda-forge)\n",
    "* Pulling it all together in a cookie!"
   ]
  },
  {
   "cell_type": "markdown",
   "id": "529f451d-4feb-4632-9d61-778851d1dc24",
   "metadata": {},
   "source": [
    "# Environments\n",
    "\n",
    "Don't install globably. You will break things.\n",
    "\n",
    "* Days since a global install broke something for me: 3\n",
    "\n",
    "This includes user installs.\n",
    "\n",
    "```python\n",
    "pip install package  # bad\n",
    "pip install --user package # horrible\n",
    "```"
   ]
  },
  {
   "cell_type": "markdown",
   "id": "8136d0a7-c514-4011-8a9e-ab3e5e0e8dae",
   "metadata": {},
   "source": [
    "## Venv/virtualenv\n",
    "\n",
    "```python\n",
    "python -m venv .venv\n",
    "source .venv/bin/activate\n",
    "python -m pip install package\n",
    "```\n",
    "\n",
    "Everything is installed in the local directory `.venv`. Virtualenv requires installing, but is faster and updates more often.\n",
    "\n",
    "Best practice: if you just have one per folder, then name it `.venv`."
   ]
  },
  {
   "cell_type": "markdown",
   "id": "0ebaca2b-e82e-4640-9470-808bf533f01c",
   "metadata": {},
   "source": [
    "### Python launcher for Unix\n",
    "\n",
    "A Python core developer has build a copy of the Python launcher for Windows in Rust, and it includes a fantastic extra feature: it can use `.venv` directly without activation! Less typing _and_ no activation step.\n",
    "\n",
    "```python\n",
    "python -m virtualenv .venv\n",
    "py -m pip install package\n",
    "```"
   ]
  },
  {
   "cell_type": "markdown",
   "id": "a5f6917d-c41f-488a-879a-270f2c799859",
   "metadata": {},
   "source": [
    "## Pipx\n",
    "\n",
    "If you want to install or use an _application_ (anything you don't need to import), then use `pipx`, which lives next to `pip` now in the PyPA. This will make an isolated virtual environment for you for each application, and will only link in the console/gui scripts! `pipx install app` is safe. You can even do both at the same time:\n",
    "\n",
    "```python\n",
    "pipx run build --sdist\n",
    "```\n",
    "\n",
    "This will do both install and run in one step, and will cache the venv for a week.\n",
    "\n",
    "### Implications\n",
    "\n",
    "* Pipx is provided on all GHA and Azure images. No Python setup required.\n",
    "* You have all of PyPI available in a single line if you have pipx!\n",
    "\n",
    "\n",
    "### Examples\n",
    "\n",
    "These are the last few things I've run based on my fish history looking for `pipx run`.\n",
    "\n",
    "* `build`\n",
    "* `twine`\n",
    "* `cibuildwheel`\n",
    "* `monolens`\n",
    "* `jupyter-book`\n",
    "* `bumpversion`\n",
    "* `lastversion`\n",
    "* `cmake`\n",
    "* `cookiecutter`\n",
    "\n",
    "### Other ideas\n",
    "\n",
    "These have other ways to run normally or can be obtained from brew, but also are in my `pipx run` history.\n",
    "\n",
    "* `auditwheel`\n",
    "* `nox`\n",
    "* `tox`\n",
    "* `mypy`\n",
    "* `black`\n",
    "* `setup-cfg-version`\n",
    "* `pyupgrade`\n",
    "* `isort`\n",
    "* `pytest`"
   ]
  },
  {
   "cell_type": "markdown",
   "id": "01a2b015-0ddc-4330-ac89-c877f79fc9fc",
   "metadata": {},
   "source": [
    "## Conda\n",
    "\n",
    "You can also create environment in conda or mamba. I recommend always creating an `environment.yml` file, then you can `conda env create` and `conda env update` with it.\n",
    "\n",
    "```yaml\n",
    "# environment.yml\n",
    "name: myenv\n",
    "channels:\n",
    "  - conda-forge\n",
    "dependencies:\n",
    "  - python ==3.9\n",
    "  - root >=6.20.0\n",
    "  - boost-histogram >=1\n",
    "```\n",
    "\n",
    "This is also picked up by mybinder.org."
   ]
  },
  {
   "cell_type": "markdown",
   "id": "c66e82d1-4bf8-46ab-941f-141e4b93db86",
   "metadata": {},
   "source": [
    "## Task runners\n",
    "\n",
    "https://scikit-hep.org/developer/tasks\n",
    "\n",
    "### Nox\n",
    "\n",
    "I used to avoid task runners, but `nox` is different. Let's look at a little example:"
   ]
  },
  {
   "cell_type": "code",
   "execution_count": null,
   "id": "4becc108-5b98-4926-94bb-e180be8a8ab9",
   "metadata": {},
   "outputs": [],
   "source": [
    "%%writefile noxfile.py\n",
    "import nox\n",
    "\n",
    "@nox.session\n",
    "def example(session):\n",
    "    session.install(\"pytest\")\n",
    "    session.run(\"pytest\", \"--version\")"
   ]
  },
  {
   "cell_type": "code",
   "execution_count": null,
   "id": "2dde4dd5-4963-4c09-b23a-cc5b66f3ca28",
   "metadata": {},
   "outputs": [],
   "source": [
    "!pipx run nox"
   ]
  },
  {
   "cell_type": "markdown",
   "id": "3837f3ef-0d7f-4dd4-817e-4330103e45e8",
   "metadata": {},
   "source": [
    "Unlike tox, the classic statically configured solution, nothing is assumed about your package, and you even see the exact commands as it runs, teaching you how to run the commands yourself. It's also possible to do anything in Python in your nox file.\n",
    "\n",
    "### Where to Use?\n",
    "* Encourages new contributors with minimal requirements to run testing and linting\n",
    "* Can automate challanging rare tasks (docs, bumping versions, etc)\n",
    "* Can be used in CI\n",
    "* Supported via `pipx` in the manylinux 2010+ images\n",
    "* Scripts run via nox should work standalone - use it for environments\n",
    "* Supports conda (partially) too! :)\n",
    "\n",
    "You are not likely to use it for tasks _you_ work on daily, but it still helps contributors."
   ]
  },
  {
   "cell_type": "markdown",
   "id": "fecf0df1-7624-4cde-92d2-c5d39897fce4",
   "metadata": {},
   "source": [
    "## Packaging\n",
    "\n",
    "https://scikit-hep.org/developer/packaging\n",
    "\n",
    "We will focus mostly on setuptools, since it supports extensions. If you don't have extensions, there are more options, though setuptools is not too bad. Flit is likely the best alternative, though Poetry _might_ be a good option, if you are careful."
   ]
  },
  {
   "cell_type": "markdown",
   "id": "5f4445ae-35c6-4c3f-b032-561e8db9429f",
   "metadata": {},
   "source": [
    "### pyproject.toml (PEP 517/518, also 621)\n",
    "\n",
    "**RULE: all packages need to have a pyproject.toml file.**\n",
    "\n",
    "This _is_ the future of Python packaging. Always include at least this (setuptools):\n",
    "\n",
    "```toml\n",
    "[build-system]\n",
    "requires = [\n",
    "    \"setuptools>=42\",\n",
    "    \"wheel\"\n",
    "]\n",
    "build-backend = \"setuptools.build_meta\"\n",
    "```\n",
    "\n",
    "The packages listed here wil be temporarily installed in a venv when running \"build\" tasks, like making the SDist (source distribution) with `pipx run build --sdist` or when building the wheel (a built distribution that does not run custom code when installing - fast, simple, and can contain binaries)."
   ]
  },
  {
   "cell_type": "markdown",
   "id": "3b12bcee-8e9e-4823-8d7a-23acf12d679b",
   "metadata": {},
   "source": [
    "Most libraries (except flake8 and setuptools) now support configuration in the `pyproject.toml` file, making it the \"One file to rule them all\" for Python packaging! Well, once at least setuptools starts supporting PEP 621."
   ]
  },
  {
   "cell_type": "markdown",
   "id": "2507b873-de0b-44b9-8d33-77580689d975",
   "metadata": {},
   "source": [
    "### src structure\n",
    "\n",
    "**RECOMMENDATION: all packages should be in `/src`, expecially if they have binary parts.**\n",
    "\n",
    "Place your code in `src/<package_name>`, not `<package_name>`. Why? Python likes to run things from the current directory. _So you may not be testing your installed package when you run your tests!_ This is expecially important if you have compiled extensions."
   ]
  },
  {
   "cell_type": "markdown",
   "id": "ef9d7366-5289-4dcd-8fa7-125c30347884",
   "metadata": {},
   "source": [
    "### setup.cfg configuration\n",
    "\n",
    "**ALMOST RULE: Static configuration should be in setup.cfg.**\n",
    "\n",
    "Almost anything static in `setup.py` should be in `setup.cfg`.\n",
    "\n",
    "#### Exceptions:\n",
    "\n",
    "* Binary extensions have to be in `setup.py`\n",
    "* Package extras _can_ be in `setup.py` to have self-dependencies."
   ]
  },
  {
   "cell_type": "markdown",
   "id": "1c6bf49e-fa6e-413b-805d-7790be4bf479",
   "metadata": {},
   "source": [
    "#### Benefits:\n",
    "    \n",
    "* Easier to convert to PEP 621 pyproject.toml (or run any automated tooling)\n",
    "* Can be linted and formatted automatically vai setup-cfg-fmt\n",
    "* Can be read by other tools (like cibuildwheel), while `setup.py` cannot be reliably parsed\n",
    "* Clarifies what's \"special\" or non-static about your package build\n",
    "* Keeps you from having to add \"helper\" files that are imported in `setup.py`\n",
    "* Empty `setup.py`'s can be deleted completely now"
   ]
  },
  {
   "cell_type": "markdown",
   "id": "a24230f3-2106-49f5-a175-5e3518e2033b",
   "metadata": {},
   "source": [
    "### Use Extras\n",
    "\n",
    "You can add extras, which allow optional dependencies to be requested. For example:\n",
    "\n",
    "```ini\n",
    "[options.extras_require]\n",
    "test =\n",
    "  pytest >=6.0\n",
    "```\n",
    "\n",
    "Now you can add `[test]` to the pip install line or requirement listing and `pytest` will be included.\n",
    "\n",
    "Some suggested extras include `[test]`, `[dev]`, `[docs]`, `[all]`."
   ]
  },
  {
   "cell_type": "markdown",
   "id": "1c3ca26d-a063-454c-8aa0-dc6dd8a98609",
   "metadata": {},
   "source": [
    "# Static checking and QA"
   ]
  },
  {
   "cell_type": "markdown",
   "id": "29aa5d70-fd3f-40a1-9bf1-da3c4405fa80",
   "metadata": {},
   "source": [
    "## pre-commit\n",
    "\n",
    "All checks can be run through pre-commit. While it's somehat of a task runner, and overlaps with `nox`, it has a specific goal: things it runs are intended to be quick checks that you should run before every commit. You can even install it as a pre-commit git hook if you want to.\n",
    "\n",
    "Anything can be run in pre-commit, including checks based on `python`, `docker`, `ruby`, and many more. It is popular enough to get first and second party support for most common checks. This is what the configuration looks like:\n",
    "\n",
    "```yaml\n",
    "repos:\n",
    "- repo: https://github.com/psf/black\n",
    "  rev: 21.5b2\n",
    "  hooks:\n",
    "  - id: black\n",
    "```\n",
    "\n",
    "This sets up a black check. _Always_ use an unmoving revision here - use `pre-commit autoupdate` to bring them up to date. Pre-commit caches environments on the rev."
   ]
  },
  {
   "cell_type": "markdown",
   "id": "2ae3dfea-47e1-4be5-86f1-92420d217ff3",
   "metadata": {},
   "source": [
    "Pre-commit has two run modes. The default \"fast\" mode checks only the changed files, and respects your staging area:\n",
    "\n",
    "```bash\n",
    "pre-commit run\n",
    "```\n",
    "\n",
    "The second method is to run on all git tracked files:\n",
    "\n",
    "```bash\n",
    "pre-commit run -a\n",
    "```\n",
    "\n",
    "If you want it to always run when you type `git commit`, then run `pre-commit install` and it will become a git pre-commit hook.  You can even set this up to always happen when you clone a repo. If you ever need to skip all hooks, add `-n` to the `git commit` command."
   ]
  },
  {
   "cell_type": "markdown",
   "id": "30869847-ce54-40ba-8503-5bbf54fdacf9",
   "metadata": {},
   "source": [
    "### Tips:\n",
    "\n",
    "* There are fantastic \"common\" hooks in pre-commit/pre-commit-hooks\n",
    "* You can trivally turn any repo into a pre-commit hook\n",
    "* You can tell pre-commit.ci to skip certain checks\n",
    "* You can make checks only run in a manual stage. Or any git stage."
   ]
  },
  {
   "cell_type": "markdown",
   "id": "2a8a3929-4e01-4c5f-af11-7cef0eecd70b",
   "metadata": {},
   "source": [
    "## pre-commit.ci\n",
    "\n",
    "There is a CI service for pre-commit.ci. While you could run pre-commit in GitHub Actions, and this is still useful if you have docker checks or want to \"require\" pre-commit to pass before running tests or building things, there are several benefits to (also) having pre-commit.ci:\n",
    "\n",
    "* Weekly (or monthly) updates to all pre-commit rev's.\n",
    "* Modifying checks are immediatly commited directly to PRs.\n",
    "* Ultra fast with global caching."
   ]
  },
  {
   "cell_type": "markdown",
   "id": "f7b78bd5-a240-4f70-a2c8-86862ddd49e1",
   "metadata": {},
   "source": [
    "## mypy\n",
    "\n",
    "Here's an example of a more involved check:\n",
    "\n",
    "```yaml\n",
    "- repo: https://github.com/pre-commit/mirrors-mypy\n",
    "  rev: v0.910\n",
    "  hooks:\n",
    "  - id: mypy\n",
    "    files: src  # Can control what the check runs on\n",
    "    args: []    # The default two args here are not great, we can remove or replace\n",
    "    additional_dependencies: # Full control over the environment it runs in!\n",
    "    - numpy==1.20.*\n",
    "    - uhi\n",
    "    - types-dataclasses\n",
    "```"
   ]
  },
  {
   "cell_type": "markdown",
   "id": "a053b182-558a-4c34-a46f-b1d4ee41936b",
   "metadata": {},
   "source": [
    "# CI\n",
    "\n",
    "## GitHub Actions\n",
    "\n",
    "GitHub Actions is the most popular CI system, and very easy and elegant to use due to a beautiful modular design that avoids assumptions.\n",
    "\n",
    "\n",
    "```yaml\n",
    "on:\n",
    "  pull_request:\n",
    "  push:\n",
    "    branches:\n",
    "    - main\n",
    "\n",
    "jobs:\n",
    "  lint:\n",
    "    runs-on: ubuntu-latest\n",
    "    steps:\n",
    "    - uses: actions/checkout@v2\n",
    "    - uses: actions/setup-python@v2\n",
    "    - uses: pre-commit/action@v2.0.3\n",
    "```"
   ]
  },
  {
   "cell_type": "markdown",
   "id": "61f342e0-d0c5-4e7e-992c-42591fba8590",
   "metadata": {},
   "source": [
    "```yaml\n",
    "  lint:\n",
    "    runs-on: ubuntu-latest\n",
    "    steps:\n",
    "    - uses: actions/checkout@v2\n",
    "    - uses: actions/setup-python@v2\n",
    "    - uses: pre-commit/action@v2.0.3\n",
    "```"
   ]
  },
  {
   "cell_type": "markdown",
   "id": "d247b2fc-4965-469b-b3a1-a7ea14bdaeed",
   "metadata": {},
   "source": [
    "```yaml\n",
    "  tests:\n",
    "    runs-on: ubuntu-latest\n",
    "    strategy:\n",
    "      matrix:\n",
    "        python-version: [3.6, 3.9]\n",
    "    name: Test 🐍 ${{ matrix.python-version }}\n",
    "```\n",
    "\n",
    "```yaml\n",
    "    steps:\n",
    "    - uses: actions/checkout@v2\n",
    "    - uses: excitedleigh/setup-nox@v2.0.0  # Sets up all installed Python versions\n",
    "    - name: Test package\n",
    "      run: pipx run nox -s test-${{ matrix.python-version }}\n",
    "```"
   ]
  },
  {
   "cell_type": "markdown",
   "id": "cadfcd7c-a6ce-49ac-be9f-faef9cfcee46",
   "metadata": {},
   "source": [
    "### Features\n",
    "\n",
    "- Artifacts can be uploaded and accessed from UI or other jobs\n",
    "- Actions can be defined in any GitHub repo or locally, in shell, JS, or Docker\n",
    "- Linux, macOS, Windows all supported, and docker images\n",
    "- Very well updated"
   ]
  },
  {
   "cell_type": "markdown",
   "id": "3761f1c5-e853-4008-afe9-fc1b15c786ba",
   "metadata": {},
   "source": [
    "## Dependabot\n",
    "\n",
    "Can update pinned Pytohn version or GitHub action tags!\n",
    "\n",
    "```yaml\n",
    "# .github/dependabot.yml\n",
    "version: 2\n",
    "updates:\n",
    "  # Maintain dependencies for GitHub Actions\n",
    "  - package-ecosystem: \"github-actions\"\n",
    "    directory: \"/\"\n",
    "    schedule:\n",
    "      interval: \"daily\"\n",
    "    ignore:\n",
    "      # Offical actions have moving tags like v1\n",
    "      # that are used, so they don't need updates here\n",
    "      - dependency-name: \"actions/*\"\n",
    "```"
   ]
  },
  {
   "cell_type": "markdown",
   "id": "fc76db7d-8499-4a59-bb2a-e229b22cfc6a",
   "metadata": {},
   "source": [
    "# Distributing packages\n",
    "\n",
    "## build\n",
    "\n",
    "Building SDists and pure Python wheels should be done by pypa/build. Example:\n",
    "\n",
    "```console\n",
    "pipx run build\n",
    "```\n",
    "\n",
    "This will build an SDist, then use that to build an wheel. You can also build directly:\n",
    "\n",
    "```console\n",
    "pipx run build --sdist\n",
    "```\n",
    "\n",
    "This builds via PEP 517, so any project that pip can install is supported (with much the same infrastructure) (though SDists sometimes are broken! Use `--wheel` to build directly into a wheel)."
   ]
  },
  {
   "cell_type": "markdown",
   "id": "5838f5f1-9774-4198-93d6-dea355c37afb",
   "metadata": {},
   "source": [
    "## cibuildwheel\n",
    "\n",
    "This is a tool for building wheels for all platforms on CI (or locally for linux, especially in upcoming 2.0).\n",
    "\n",
    "* Handles manylinux docker images (shared maintainership)\n",
    "* Handles repairing on Linux, macOS, and experimentally/optionally Windows\n",
    "* Handles python.org Python (10.9+) downloads on macOS\n",
    "* Can build Universal2/Arm64 wheels for Apple Silicon 3.8+\n",
    "* Handles PyPy (collaboration with PyPy devs)\n",
    "* Handles special archectures (32-bit, Aarch64, PowerPC, s390x)\n",
    "* Used by large (scikit-learn, scikit-image, mypy, matplotlib) and small projects alike\n",
    "* Can test your wheels in a new environment\n",
    "* Powerful configuration system and selection\n",
    "* Pins all starting dependencies (selectable)"
   ]
  },
  {
   "cell_type": "markdown",
   "id": "c1f3ec29-4585-4524-873c-9d4e8c3bfed0",
   "metadata": {},
   "source": [
    "### Example\n",
    "```\n",
    "  build_wheels:\n",
    "    name: Wheels on ${{ matrix.os }}\n",
    "    runs-on: ${{ matrix.os }}\n",
    "    strategy:\n",
    "      matrix:\n",
    "        os: [ubuntu-20.04, windows-2019, macos-10.15]\n",
    "\n",
    "    steps:\n",
    "    - uses: actions/checkout@v1\n",
    "\n",
    "    - uses: pypa/cibuildwheel@v1.12.0\n",
    "\n",
    "    - uses: actions/upload-artifact@v2\n",
    "      with:\n",
    "        path: wheelhouse/*.whl\n",
    "```"
   ]
  },
  {
   "cell_type": "markdown",
   "id": "c2c5c4a3-c014-48c3-9d98-3d85c05a479d",
   "metadata": {},
   "source": [
    "### Version 2.0 (upcoming)\n",
    "\n",
    "* Dropped Python < 3.6, using latest manylinux images again, auditwheel 4, etc.\n",
    "* Optional `pypa/build` support (hits a Windows pip bug in 2.0.0a4)\n",
    "* Supports Python 3.10 (optional until ABI stable)\n",
    "* Better PyPy support\n",
    "\n",
    "```yaml\n",
    "# Environment variables (1.x or dynamic)\n",
    "CIBW_SKIP: cp36-*\n",
    "```\n",
    "\n",
    "Now you can place config in your pyproject.toml!\n",
    "```toml\n",
    "[tool.cibuildhweel]\n",
    "skip = [\"cp36-*\"]\n",
    "```\n",
    "\n",
    "And you don't have to be tied to your CI config; you even can run it locally:\n",
    "\n",
    "```console\n",
    "pipx run --spec cibuildwheel==2.0.0a4 cibuildwheel --platform linux\n",
    "```"
   ]
  },
  {
   "cell_type": "markdown",
   "id": "fe22a0c6-770e-4b3a-9970-d37949d17545",
   "metadata": {},
   "source": [
    "## conda-forge feedstocks\n",
    "\n",
    "You can create recipes that are submitted to the conda-forge orginization on GitHub, then their CI manages the building and updating. See almost any scikit-hep for examples."
   ]
  },
  {
   "cell_type": "markdown",
   "id": "cfc1aa98-39fe-4fca-b96b-c3d8c332d902",
   "metadata": {},
   "source": [
    "# Quick package construction"
   ]
  },
  {
   "cell_type": "markdown",
   "id": "e13bad14-906f-4405-bea5-470866d49453",
   "metadata": {},
   "source": [
    "All the above can be set up in seconds for a new package with `scikit-hep/cookiecutter`!\n",
    "\n",
    "```console\n",
    "pipx run cookiecutter gh:scikit-hep/cookie\n",
    "```\n",
    "\n",
    "(Live demo)"
   ]
  },
  {
   "cell_type": "markdown",
   "id": "6cf63185-8275-4c11-aafe-b388d696adfd",
   "metadata": {},
   "source": [
    "# Alternate packaging systems\n",
    "\n",
    "## flit PEP 621\n",
    "\n",
    "Flit supports PEP 621, albiet secretly at the moment.\n",
    "\n",
    "## Poetry\n",
    "\n",
    "This replaces all other tools with a \"all-in-one\" solution. You can work on packages without `venv`, `virtualenv`, `pipenv`, you don't need `pip` or `build` (though it does support them via PEP 517). You don't need `setuptools`. It can even bump versions (sortof).\n",
    "\n",
    "It makes some choices that seem to be made largely out of the \"we can do everything better\" mindset that can be problematic, expecialy for libraries (it seems to be better alligned to applications). You should never set an upper limit on libraries you don't use heavily - it can create impossible solves, which are much, much harder than telling users that you have to install an older package for a while. It's also rather slow in supporting macOS 11 and Apple Silicon. (So is pipenv).\n",
    "\n",
    "\n",
    "## Scikit-build\n",
    "\n"
   ]
  },
  {
   "cell_type": "code",
   "execution_count": null,
   "id": "13506324-7e92-4277-8b44-e99619d3c0f3",
   "metadata": {},
   "outputs": [],
   "source": []
  }
 ],
 "metadata": {
  "kernelspec": {
   "display_name": "Python 3",
   "language": "python",
   "name": "python3"
  },
  "language_info": {
   "codemirror_mode": {
    "name": "ipython",
    "version": 3
   },
   "file_extension": ".py",
   "mimetype": "text/x-python",
   "name": "python",
   "nbconvert_exporter": "python",
   "pygments_lexer": "ipython3",
   "version": "3.9.5"
  },
  "toc-autonumbering": true
 },
 "nbformat": 4,
 "nbformat_minor": 5
}
